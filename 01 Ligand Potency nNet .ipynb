{
 "cells": [
  {
   "cell_type": "markdown",
   "id": "f3e51057-9432-4574-9ee5-69760ecd806d",
   "metadata": {},
   "source": [
    "# Ligand ADMET and Potency (Property Prediction)\n",
    "\n",
    "The [ADMET](https://polarishub.io/competitions/asap-discovery/antiviral-admet-2025) and [Potency](https://polarishub.io/competitions/asap-discovery/antiviral-potency-2025) Challenge of the [ASAP Discovery competition](https://polarishub.io/blog/antiviral-competition) take the shape of a property prediction task. Given the SMILES (or, to be more precise, the CXSMILES) of a molecule, you are asked to predict the numerical properties of said molecule. This is a relatively straight-forward application of ML and this notebook will quickly get you up and running!\n",
    "\n",
    "To begin with, choose one of the two challenges! The code will look the same for both. "
   ]
  },
  {
   "cell_type": "code",
   "execution_count": 1,
   "id": "c1e1f5a4-d7b4-41cc-a5fc-a657ca5fd6cf",
   "metadata": {},
   "outputs": [],
   "source": [
    "CHALLENGE = \"antiviral-potency-2025\" # \"antiviral-admet-2025\"  # or: \"antiviral-potency-2025\""
   ]
  },
  {
   "cell_type": "markdown",
   "id": "2319bfb8-1fef-4294-a8f6-a225b7a95c09",
   "metadata": {},
   "source": [
    "## Load the competition\n",
    "\n",
    "Let's first load the competition from Polaris.\n",
    "\n",
    "Make sure you are logged in! If not, simply run `polaris login` and follow the instructions. "
   ]
  },
  {
   "cell_type": "code",
   "execution_count": 2,
   "id": "0a466c50-5408-4f72-840c-b467ca5f0f3f",
   "metadata": {},
   "outputs": [
    {
     "name": "stderr",
     "output_type": "stream",
     "text": [
      "/opt/miniconda3/envs/polaris/lib/python3.12/site-packages/tqdm/auto.py:21: TqdmWarning: IProgress not found. Please update jupyter and ipywidgets. See https://ipywidgets.readthedocs.io/en/stable/user_install.html\n",
      "  from .autonotebook import tqdm as notebook_tqdm\n"
     ]
    },
    {
     "data": {
      "text/html": [
       "<pre style=\"white-space:pre;overflow-x:auto;line-height:normal;font-family:Menlo,'DejaVu Sans Mono',consolas,'Courier New',monospace\"><span style=\"color: #7fbfbf; text-decoration-color: #7fbfbf\">[2025-02-06 08:03:02] </span><span style=\"color: #000080; text-decoration-color: #000080\">INFO    </span> The version of Polaris that was used to create the artifact <span style=\"font-weight: bold\">(</span><span style=\"color: #008080; text-decoration-color: #008080; font-weight: bold\">0.11</span>.<span style=\"color: #008080; text-decoration-color: #008080; font-weight: bold\">0</span><span style=\"font-weight: bold\">)</span> <a href=\"file:///opt/miniconda3/envs/polaris/lib/python3.12/site-packages/polaris/_artifact.py\" target=\"_blank\"><span style=\"color: #7f7f7f; text-decoration-color: #7f7f7f\">_artifact.py</span></a><span style=\"color: #7f7f7f; text-decoration-color: #7f7f7f\">:</span><a href=\"file:///opt/miniconda3/envs/polaris/lib/python3.12/site-packages/polaris/_artifact.py#92\" target=\"_blank\"><span style=\"color: #7f7f7f; text-decoration-color: #7f7f7f\">92</span></a>\n",
       "<span style=\"color: #7fbfbf; text-decoration-color: #7fbfbf\">                      </span>         is different from the currently installed version of Polaris         <span style=\"color: #7f7f7f; text-decoration-color: #7f7f7f\">               </span>\n",
       "<span style=\"color: #7fbfbf; text-decoration-color: #7fbfbf\">                      </span>         <span style=\"font-weight: bold\">(</span><span style=\"color: #008080; text-decoration-color: #008080; font-weight: bold\">0.11</span>.<span style=\"color: #008080; text-decoration-color: #008080; font-weight: bold\">5</span><span style=\"font-weight: bold\">)</span>.                                                            <span style=\"color: #7f7f7f; text-decoration-color: #7f7f7f\">               </span>\n",
       "</pre>\n"
      ],
      "text/plain": [
       "\u001b[2;36m[2025-02-06 08:03:02]\u001b[0m\u001b[2;36m \u001b[0m\u001b[34mINFO    \u001b[0m The version of Polaris that was used to create the artifact \u001b[1m(\u001b[0m\u001b[1;36m0.11\u001b[0m.\u001b[1;36m0\u001b[0m\u001b[1m)\u001b[0m \u001b]8;id=491790;file:///opt/miniconda3/envs/polaris/lib/python3.12/site-packages/polaris/_artifact.py\u001b\\\u001b[2m_artifact.py\u001b[0m\u001b]8;;\u001b\\\u001b[2m:\u001b[0m\u001b]8;id=332592;file:///opt/miniconda3/envs/polaris/lib/python3.12/site-packages/polaris/_artifact.py#92\u001b\\\u001b[2m92\u001b[0m\u001b]8;;\u001b\\\n",
       "\u001b[2;36m                      \u001b[0m         is different from the currently installed version of Polaris         \u001b[2m               \u001b[0m\n",
       "\u001b[2;36m                      \u001b[0m         \u001b[1m(\u001b[0m\u001b[1;36m0.11\u001b[0m.\u001b[1;36m5\u001b[0m\u001b[1m)\u001b[0m.                                                            \u001b[2m               \u001b[0m\n"
      ]
     },
     "metadata": {},
     "output_type": "display_data"
    },
    {
     "data": {
      "text/html": [
       "<pre style=\"white-space:pre;overflow-x:auto;line-height:normal;font-family:Menlo,'DejaVu Sans Mono',consolas,'Courier New',monospace\"><span style=\"color: #7fbfbf; text-decoration-color: #7fbfbf\">                      </span><span style=\"color: #808000; text-decoration-color: #808000\">WARNING </span> You're loading data from a remote location. If the dataset is small     <a href=\"file:///opt/miniconda3/envs/polaris/lib/python3.12/site-packages/polaris/dataset/_base.py\" target=\"_blank\"><span style=\"color: #7f7f7f; text-decoration-color: #7f7f7f\">_base.py</span></a><span style=\"color: #7f7f7f; text-decoration-color: #7f7f7f\">:</span><a href=\"file:///opt/miniconda3/envs/polaris/lib/python3.12/site-packages/polaris/dataset/_base.py#182\" target=\"_blank\"><span style=\"color: #7f7f7f; text-decoration-color: #7f7f7f\">182</span></a>\n",
       "<span style=\"color: #7fbfbf; text-decoration-color: #7fbfbf\">                      </span>         enough, consider caching the dataset first using                        <span style=\"color: #7f7f7f; text-decoration-color: #7f7f7f\">            </span>\n",
       "<span style=\"color: #7fbfbf; text-decoration-color: #7fbfbf\">                      </span>         <span style=\"color: #800080; text-decoration-color: #800080; font-weight: bold\">CompetitionSpecification.cache</span><span style=\"font-weight: bold\">()</span> for more performant data access.       <span style=\"color: #7f7f7f; text-decoration-color: #7f7f7f\">            </span>\n",
       "</pre>\n"
      ],
      "text/plain": [
       "\u001b[2;36m                     \u001b[0m\u001b[2;36m \u001b[0m\u001b[33mWARNING \u001b[0m You're loading data from a remote location. If the dataset is small     \u001b]8;id=268414;file:///opt/miniconda3/envs/polaris/lib/python3.12/site-packages/polaris/dataset/_base.py\u001b\\\u001b[2m_base.py\u001b[0m\u001b]8;;\u001b\\\u001b[2m:\u001b[0m\u001b]8;id=491155;file:///opt/miniconda3/envs/polaris/lib/python3.12/site-packages/polaris/dataset/_base.py#182\u001b\\\u001b[2m182\u001b[0m\u001b]8;;\u001b\\\n",
       "\u001b[2;36m                      \u001b[0m         enough, consider caching the dataset first using                        \u001b[2m            \u001b[0m\n",
       "\u001b[2;36m                      \u001b[0m         \u001b[1;35mCompetitionSpecification.cache\u001b[0m\u001b[1m(\u001b[0m\u001b[1m)\u001b[0m for more performant data access.       \u001b[2m            \u001b[0m\n"
      ]
     },
     "metadata": {},
     "output_type": "display_data"
    }
   ],
   "source": [
    "import polaris as po\n",
    "\n",
    "\n",
    "competition = po.load_competition(f\"asap-discovery/{CHALLENGE}\")"
   ]
  },
  {
   "cell_type": "markdown",
   "id": "5478ab20-ed4b-4f7d-a5bb-3618748de65a",
   "metadata": {},
   "source": [
    "As suggested in the logs, we'll cache the dataset. Note that this is not strictly necessary, but it does speed up later steps."
   ]
  },
  {
   "cell_type": "code",
   "execution_count": 3,
   "id": "d44d7a37-2119-42cd-a7eb-41daf5687660",
   "metadata": {},
   "outputs": [
    {
     "data": {
      "text/html": [
       "<pre style=\"white-space:pre;overflow-x:auto;line-height:normal;font-family:Menlo,'DejaVu Sans Mono',consolas,'Courier New',monospace\">/opt/miniconda3/envs/polaris/lib/python3.12/site-packages/rich/live.py:231: UserWarning: install \"ipywidgets\" for \n",
       "Jupyter support\n",
       "  warnings.warn('install \"ipywidgets\" for Jupyter support')\n",
       "</pre>\n"
      ],
      "text/plain": [
       "/opt/miniconda3/envs/polaris/lib/python3.12/site-packages/rich/live.py:231: UserWarning: install \"ipywidgets\" for \n",
       "Jupyter support\n",
       "  warnings.warn('install \"ipywidgets\" for Jupyter support')\n"
      ]
     },
     "metadata": {},
     "output_type": "display_data"
    },
    {
     "data": {
      "text/html": [
       "<pre style=\"white-space:pre;overflow-x:auto;line-height:normal;font-family:Menlo,'DejaVu Sans Mono',consolas,'Courier New',monospace\"><span style=\"color: #7fbfbf; text-decoration-color: #7fbfbf\">[08:03:10] </span><span style=\"color: #008000; text-decoration-color: #008000\">Copying to destination </span>                                                                     <a href=\"file:///opt/miniconda3/envs/polaris/lib/python3.12/site-packages/polaris/dataset/_base.py\" target=\"_blank\"><span style=\"color: #7f7f7f; text-decoration-color: #7f7f7f\">_base.py</span></a><span style=\"color: #7f7f7f; text-decoration-color: #7f7f7f\">:</span><a href=\"file:///opt/miniconda3/envs/polaris/lib/python3.12/site-packages/polaris/dataset/_base.py#381\" target=\"_blank\"><span style=\"color: #7f7f7f; text-decoration-color: #7f7f7f\">381</span></a>\n",
       "<span style=\"color: #7fbfbf; text-decoration-color: #7fbfbf\">           </span><span style=\"color: #008000; text-decoration-color: #008000\">/Users/joshuarose/Library/Caches/polaris/datasets/1d9f43c7-7449-48ec-bfd7-50c7ec5ce863/data</span> <span style=\"color: #7f7f7f; text-decoration-color: #7f7f7f\">            </span>\n",
       "<span style=\"color: #7fbfbf; text-decoration-color: #7fbfbf\">           </span><span style=\"color: #008000; text-decoration-color: #008000\">.zarr</span>                                                                                       <span style=\"color: #7f7f7f; text-decoration-color: #7f7f7f\">            </span>\n",
       "</pre>\n"
      ],
      "text/plain": [
       "\u001b[2;36m[08:03:10]\u001b[0m\u001b[2;36m \u001b[0m\u001b[32mCopying to destination \u001b[0m                                                                     \u001b]8;id=265668;file:///opt/miniconda3/envs/polaris/lib/python3.12/site-packages/polaris/dataset/_base.py\u001b\\\u001b[2m_base.py\u001b[0m\u001b]8;;\u001b\\\u001b[2m:\u001b[0m\u001b]8;id=74794;file:///opt/miniconda3/envs/polaris/lib/python3.12/site-packages/polaris/dataset/_base.py#381\u001b\\\u001b[2m381\u001b[0m\u001b]8;;\u001b\\\n",
       "\u001b[2;36m           \u001b[0m\u001b[32m/Users/joshuarose/Library/Caches/polaris/datasets/1d9f43c7-7449-48ec-bfd7-50c7ec5ce863/\u001b[0m\u001b[32mdata\u001b[0m \u001b[2m            \u001b[0m\n",
       "\u001b[2;36m           \u001b[0m\u001b[32m.zarr\u001b[0m                                                                                       \u001b[2m            \u001b[0m\n"
      ]
     },
     "metadata": {},
     "output_type": "display_data"
    },
    {
     "data": {
      "text/html": [
       "<pre style=\"white-space:pre;overflow-x:auto;line-height:normal;font-family:Menlo,'DejaVu Sans Mono',consolas,'Courier New',monospace\"><span style=\"color: #7fbfbf; text-decoration-color: #7fbfbf\">           </span><span style=\"color: #808000; text-decoration-color: #808000\">For large Zarr archives, this may take a while.</span>                                             <a href=\"file:///opt/miniconda3/envs/polaris/lib/python3.12/site-packages/polaris/dataset/_base.py\" target=\"_blank\"><span style=\"color: #7f7f7f; text-decoration-color: #7f7f7f\">_base.py</span></a><span style=\"color: #7f7f7f; text-decoration-color: #7f7f7f\">:</span><a href=\"file:///opt/miniconda3/envs/polaris/lib/python3.12/site-packages/polaris/dataset/_base.py#382\" target=\"_blank\"><span style=\"color: #7f7f7f; text-decoration-color: #7f7f7f\">382</span></a>\n",
       "</pre>\n"
      ],
      "text/plain": [
       "\u001b[2;36m          \u001b[0m\u001b[2;36m \u001b[0m\u001b[33mFor large Zarr archives, this may take a while.\u001b[0m                                             \u001b]8;id=22738;file:///opt/miniconda3/envs/polaris/lib/python3.12/site-packages/polaris/dataset/_base.py\u001b\\\u001b[2m_base.py\u001b[0m\u001b]8;;\u001b\\\u001b[2m:\u001b[0m\u001b]8;id=838931;file:///opt/miniconda3/envs/polaris/lib/python3.12/site-packages/polaris/dataset/_base.py#382\u001b\\\u001b[2m382\u001b[0m\u001b]8;;\u001b\\\n"
      ]
     },
     "metadata": {},
     "output_type": "display_data"
    },
    {
     "data": {
      "text/html": [
       "<pre style=\"white-space:pre;overflow-x:auto;line-height:normal;font-family:Menlo,'DejaVu Sans Mono',consolas,'Courier New',monospace\"><span style=\"color: #7fbfbf; text-decoration-color: #7fbfbf\">           </span><span style=\"color: #008000; text-decoration-color: #008000\"> Success: Copying Zarr keys</span>                                                                <a href=\"file:///opt/miniconda3/envs/polaris/lib/python3.12/site-packages/polaris/utils/context.py\" target=\"_blank\"><span style=\"color: #7f7f7f; text-decoration-color: #7f7f7f\">context.py</span></a><span style=\"color: #7f7f7f; text-decoration-color: #7f7f7f\">:</span><a href=\"file:///opt/miniconda3/envs/polaris/lib/python3.12/site-packages/polaris/utils/context.py#53\" target=\"_blank\"><span style=\"color: #7f7f7f; text-decoration-color: #7f7f7f\">53</span></a>\n",
       "</pre>\n"
      ],
      "text/plain": [
       "\u001b[2;36m          \u001b[0m\u001b[2;36m \u001b[0m\u001b[32m Success: Copying Zarr keys\u001b[0m                                                                \u001b]8;id=946490;file:///opt/miniconda3/envs/polaris/lib/python3.12/site-packages/polaris/utils/context.py\u001b\\\u001b[2mcontext.py\u001b[0m\u001b]8;;\u001b\\\u001b[2m:\u001b[0m\u001b]8;id=186918;file:///opt/miniconda3/envs/polaris/lib/python3.12/site-packages/polaris/utils/context.py#53\u001b\\\u001b[2m53\u001b[0m\u001b]8;;\u001b\\\n"
      ]
     },
     "metadata": {},
     "output_type": "display_data"
    },
    {
     "data": {
      "text/html": [
       "<pre style=\"white-space:pre;overflow-x:auto;line-height:normal;font-family:Menlo,'DejaVu Sans Mono',consolas,'Courier New',monospace\"><span style=\"color: #7fbfbf; text-decoration-color: #7fbfbf\">           </span><span style=\"color: #008000; text-decoration-color: #008000\"> Success: Copying Zarr archive</span>                                                             <a href=\"file:///opt/miniconda3/envs/polaris/lib/python3.12/site-packages/polaris/utils/context.py\" target=\"_blank\"><span style=\"color: #7f7f7f; text-decoration-color: #7f7f7f\">context.py</span></a><span style=\"color: #7f7f7f; text-decoration-color: #7f7f7f\">:</span><a href=\"file:///opt/miniconda3/envs/polaris/lib/python3.12/site-packages/polaris/utils/context.py#53\" target=\"_blank\"><span style=\"color: #7f7f7f; text-decoration-color: #7f7f7f\">53</span></a>\n",
       "</pre>\n"
      ],
      "text/plain": [
       "\u001b[2;36m          \u001b[0m\u001b[2;36m \u001b[0m\u001b[32m Success: Copying Zarr archive\u001b[0m                                                             \u001b]8;id=266552;file:///opt/miniconda3/envs/polaris/lib/python3.12/site-packages/polaris/utils/context.py\u001b\\\u001b[2mcontext.py\u001b[0m\u001b]8;;\u001b\\\u001b[2m:\u001b[0m\u001b]8;id=974124;file:///opt/miniconda3/envs/polaris/lib/python3.12/site-packages/polaris/utils/context.py#53\u001b\\\u001b[2m53\u001b[0m\u001b]8;;\u001b\\\n"
      ]
     },
     "metadata": {},
     "output_type": "display_data"
    },
    {
     "data": {
      "text/html": [
       "<pre style=\"white-space:pre;overflow-x:auto;line-height:normal;font-family:Menlo,'DejaVu Sans Mono',consolas,'Courier New',monospace\"></pre>\n"
      ],
      "text/plain": []
     },
     "metadata": {},
     "output_type": "display_data"
    },
    {
     "data": {
      "text/plain": [
       "'/Users/joshuarose/Library/Caches/polaris/datasets/1d9f43c7-7449-48ec-bfd7-50c7ec5ce863'"
      ]
     },
     "execution_count": 3,
     "metadata": {},
     "output_type": "execute_result"
    }
   ],
   "source": [
    "competition.cache()"
   ]
  },
  {
   "cell_type": "markdown",
   "id": "a2455a1a-ef57-4e04-9d0c-47553c5e8059",
   "metadata": {},
   "source": [
    "Let's get the train and test set and take a look at the data structure."
   ]
  },
  {
   "cell_type": "code",
   "execution_count": 4,
   "id": "46c34cf4-31fd-4de1-8b18-0694a2a25d29",
   "metadata": {},
   "outputs": [],
   "source": [
    "train, test = competition.get_train_test_split()"
   ]
  },
  {
   "cell_type": "code",
   "execution_count": 10,
   "id": "dfa8d6c9-7274-4a30-937a-08e7a87974ce",
   "metadata": {},
   "outputs": [
    {
     "name": "stdout",
     "output_type": "stream",
     "text": [
      "<class 'polaris.dataset._subset.Subset'>\n"
     ]
    },
    {
     "data": {
      "text/plain": [
       "('COC[C@]1(C)C(=O)N(C2=CN=CC3=CC=CC=C23)C(=O)N1C |&1:3|',\n",
       " {'pIC50 (SARS-CoV-2 Mpro)': nan, 'pIC50 (MERS-CoV Mpro)': 4.19})"
      ]
     },
     "execution_count": 10,
     "metadata": {},
     "output_type": "execute_result"
    }
   ],
   "source": [
    "print(type(train))\n",
    "train[0]"
   ]
  },
  {
   "cell_type": "code",
   "execution_count": 11,
   "id": "ec22ca4b-395b-407f-93e6-2879a6d18004",
   "metadata": {},
   "outputs": [
    {
     "data": {
      "text/plain": [
       "'C=CC(=O)NC1=CC=CC(N(CC2=CC=CC(Cl)=C2)C(=O)CC2=CN=CC3=CC=CC=C23)=C1'"
      ]
     },
     "execution_count": 11,
     "metadata": {},
     "output_type": "execute_result"
    }
   ],
   "source": [
    "test[0]"
   ]
  },
  {
   "cell_type": "markdown",
   "id": "6701ce16-bcaa-41f4-b1c9-0318c1720434",
   "metadata": {},
   "source": [
    "## Build a model\n",
    "Next, we'll train a simple baseline model using scikit-learn. \n",
    "\n",
    "You'll notice that the challenge has multiple targets."
   ]
  },
  {
   "cell_type": "code",
   "execution_count": 16,
   "id": "72014923-cf25-4ec3-87f8-00e7db0b45de",
   "metadata": {},
   "outputs": [
    {
     "data": {
      "text/plain": [
       "['pIC50 (MERS-CoV Mpro)', 'pIC50 (SARS-CoV-2 Mpro)']"
      ]
     },
     "execution_count": 16,
     "metadata": {},
     "output_type": "execute_result"
    }
   ],
   "source": [
    "train.target_cols"
   ]
  },
  {
   "cell_type": "markdown",
   "id": "ae44540f-ff75-475b-8e23-1a7d2134cdcf",
   "metadata": {},
   "source": [
    "An interesting idea would be to build a multi-task model to leverage shared information across tasks.\n",
    "\n",
    "For the sake of simplicity, however, we'll simply build a model per target here. "
   ]
  },
  {
   "cell_type": "code",
   "execution_count": 12,
   "id": "38897b4f",
   "metadata": {},
   "outputs": [
    {
     "data": {
      "text/plain": [
       "{'pIC50 (SARS-CoV-2 Mpro)': array([ nan, 5.29,  nan, ...,  nan, 5.06,  nan]),\n",
       " 'pIC50 (MERS-CoV Mpro)': array([4.19, 4.92, 4.73, ..., 4.22, 4.4 , 4.22])}"
      ]
     },
     "execution_count": 12,
     "metadata": {},
     "output_type": "execute_result"
    }
   ],
   "source": [
    "train.X\n",
    "train.y"
   ]
  },
  {
   "cell_type": "code",
   "execution_count": 16,
   "id": "a2f9a6a8-388e-45ca-8b41-bfaed2a641e4",
   "metadata": {},
   "outputs": [],
   "source": [
    "import datamol as dm\n",
    "import numpy as np\n",
    "import tensorflow as tf\n",
    "#from tensorflow.keras.models import Sequential\n",
    "#from tensorflow.keras.layers import Dense\n",
    "\n",
    "from sklearn.ensemble import GradientBoostingRegressor\n",
    "\n",
    "# Prepare the input data. We'll use Datamol to compute the ECFP fingerprints for both the train and test columns.\n",
    "X_train = np.array([dm.to_fp(dm.to_mol(smi)) for smi in train.X])\n",
    "X_test = np.array([dm.to_fp(dm.to_mol(smi)) for smi in test.X])\n",
    "\n",
    "y_pred = {}\n",
    "\n",
    "# For each of the targets...\n",
    "for tgt in competition.target_cols:\n",
    "    #print(tgt)\n",
    "    # We get the training targets\n",
    "    # Note that we need to mask out NaNs since the multi-task matrix is sparse.\n",
    "    y_true = train.y[tgt]\n",
    "    mask = ~np.isnan(y_true)\n",
    "\n",
    "    # We'll train a simple baseline model\n",
    "    model = GradientBoostingRegressor()\n",
    "    model.fit(X_train[mask], y_true[mask])\n",
    "\n",
    "    # And then use that to predict the targets for the test set\n",
    "    y_pred[tgt] = model.predict(X_test)"
   ]
  },
  {
   "cell_type": "markdown",
   "id": "820563e3-e372-4fdc-b038-259d24c5e0d8",
   "metadata": {},
   "source": [
    "## Submit your predictions\n",
    "Submitting your predictions to the competition is simple."
   ]
  },
  {
   "cell_type": "code",
   "execution_count": 11,
   "id": "4b1f4ead-0be2-44bd-84f9-608700589229",
   "metadata": {},
   "outputs": [
    {
     "name": "stdout",
     "output_type": "stream",
     "text": [
      "✅ SUCCESS: \u001b[1mYour competition predictions have been successfully uploaded to the Hub for evaluation.\u001b[0m\n",
      " \n"
     ]
    },
    {
     "name": "stderr",
     "output_type": "stream",
     "text": [
      "/Users/cas.wognum/micromamba/envs/polaris/lib/python3.12/site-packages/yaspin/core.py:171: UserWarning: color, on_color and attrs are not supported when running in jupyter\n",
      "  self._color = self._set_color(value) if value else value\n"
     ]
    }
   ],
   "source": [
    "'''competition.submit_predictions(\n",
    "    predictions=y_pred,\n",
    "    prediction_name=\"my-first-predictions\",\n",
    "    prediction_owner=\"cwognum\",\n",
    "    report_url=\"https://www.example.com\", \n",
    "    # The below metadata is optional, but recommended.\n",
    "    github_url=\"https://github.com/polaris-hub/polaris\",\n",
    "    description=\"Just testing the Polaris API here!\",\n",
    "    tags=[\"tutorial\"],\n",
    "    user_attributes={\"Framework\": \"Scikit-learn\", \"Method\": \"Gradient Boosting\"}\n",
    ")'''"
   ]
  },
  {
   "cell_type": "markdown",
   "id": "c515ba0e-1274-4ba1-b0ee-088b11d0983d",
   "metadata": {},
   "source": [
    "For the ASAP competition, we will only evaluate your latest submission. \n",
    "\n",
    "The results will only be disclosed after the competition ends."
   ]
  },
  {
   "cell_type": "markdown",
   "id": "24cb48a8-86f9-43e5-ad8b-74e039158387",
   "metadata": {},
   "source": [
    "The End."
   ]
  }
 ],
 "metadata": {
  "kernelspec": {
   "display_name": "polaris",
   "language": "python",
   "name": "python3"
  },
  "language_info": {
   "codemirror_mode": {
    "name": "ipython",
    "version": 3
   },
   "file_extension": ".py",
   "mimetype": "text/x-python",
   "name": "python",
   "nbconvert_exporter": "python",
   "pygments_lexer": "ipython3",
   "version": "3.12.8"
  }
 },
 "nbformat": 4,
 "nbformat_minor": 5
}
