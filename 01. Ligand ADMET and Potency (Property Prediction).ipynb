{
 "cells": [
  {
   "cell_type": "markdown",
   "id": "f3e51057-9432-4574-9ee5-69760ecd806d",
   "metadata": {},
   "source": [
    "# Ligand ADMET and Potency (Property Prediction)\n",
    "\n",
    "The [ADMET](https://polarishub.io/competitions/asap-discovery/antiviral-admet-2025) and [Potency](https://polarishub.io/competitions/asap-discovery/antiviral-potency-2025) Challenge of the [ASAP Discovery competition](https://polarishub.io/blog/antiviral-competition) take the shape of a property prediction task. Given the SMILES (or, to be more precise, the CXSMILES) of a molecule, you are asked to predict the numerical properties of said molecule. This is a relatively straight-forward application of ML and this notebook will quickly get you up and running!\n",
    "\n",
    "To begin with, choose one of the two challenges! The code will look the same for both. "
   ]
  },
  {
   "cell_type": "code",
   "execution_count": 1,
   "id": "c1e1f5a4-d7b4-41cc-a5fc-a657ca5fd6cf",
   "metadata": {},
   "outputs": [],
   "source": [
    "CHALLENGE = \"antiviral-potency-2025\" # \"antiviral-admet-2025\"  # or: \"antiviral-potency-2025\""
   ]
  },
  {
   "cell_type": "markdown",
   "id": "2319bfb8-1fef-4294-a8f6-a225b7a95c09",
   "metadata": {},
   "source": [
    "## Load the competition\n",
    "\n",
    "Let's first load the competition from Polaris.\n",
    "\n",
    "Make sure you are logged in! If not, simply run `polaris login` and follow the instructions. "
   ]
  },
  {
   "cell_type": "code",
   "execution_count": 2,
   "id": "0a466c50-5408-4f72-840c-b467ca5f0f3f",
   "metadata": {},
   "outputs": [
    {
     "name": "stderr",
     "output_type": "stream",
     "text": [
      "\u001b[32m2025-01-13 09:03:20.031\u001b[0m | \u001b[1mINFO    \u001b[0m | \u001b[36mpolaris._artifact\u001b[0m:\u001b[36m_validate_version\u001b[0m:\u001b[36m90\u001b[0m - \u001b[1mThe version of Polaris that was used to create the artifact (0.11.0) is different from the currently installed version of Polaris (0.10.1.dev5+gffca9da).\u001b[0m\n",
      "\u001b[32m2025-01-13 09:03:20.037\u001b[0m | \u001b[33m\u001b[1mWARNING \u001b[0m | \u001b[36mpolaris.dataset._base\u001b[0m:\u001b[36mzarr_root\u001b[0m:\u001b[36m179\u001b[0m - \u001b[33m\u001b[1mYou're loading data from a remote location. If the dataset is small enough, consider caching the dataset first using CompetitionSpecification.cache() for more performant data access.\u001b[0m\n"
     ]
    }
   ],
   "source": [
    "import polaris as po\n",
    "\n",
    "competition = po.load_competition(f\"asap-discovery/{CHALLENGE}\")"
   ]
  },
  {
   "cell_type": "markdown",
   "id": "5478ab20-ed4b-4f7d-a5bb-3618748de65a",
   "metadata": {},
   "source": [
    "As suggested in the logs, we'll cache the dataset. Note that this is not strictly necessary, but it does speed up later steps."
   ]
  },
  {
   "cell_type": "code",
   "execution_count": 3,
   "id": "d44d7a37-2119-42cd-a7eb-41daf5687660",
   "metadata": {},
   "outputs": [
    {
     "name": "stderr",
     "output_type": "stream",
     "text": [
      "\u001b[32m2025-01-13 09:03:20.947\u001b[0m | \u001b[1mINFO    \u001b[0m | \u001b[36mpolaris.dataset._base\u001b[0m:\u001b[36m_cache_zarr\u001b[0m:\u001b[36m374\u001b[0m - \u001b[1mCopying Zarr archive to /Users/cas.wognum/Library/Caches/polaris/datasets/dd13815d-94c3-4dfe-aee8-3fb4b3427a93/data.zarr. This may take a while.\u001b[0m\n",
      "\u001b[32m2025-01-13 09:03:21.667\u001b[0m | \u001b[1mINFO    \u001b[0m | \u001b[36mpolaris.hub.storage\u001b[0m:\u001b[36mcopy_to_destination\u001b[0m:\u001b[36m177\u001b[0m - \u001b[1mCopied 16 (0.07 MiB), skipped 0, of 16 keys. 100.00% completed.\u001b[0m\n"
     ]
    },
    {
     "data": {
      "text/plain": [
       "'/Users/cas.wognum/Library/Caches/polaris/datasets/dd13815d-94c3-4dfe-aee8-3fb4b3427a93'"
      ]
     },
     "execution_count": 3,
     "metadata": {},
     "output_type": "execute_result"
    }
   ],
   "source": [
    "competition.cache()"
   ]
  },
  {
   "cell_type": "markdown",
   "id": "a2455a1a-ef57-4e04-9d0c-47553c5e8059",
   "metadata": {},
   "source": [
    "Let's get the train and test set and take a look at the data structure."
   ]
  },
  {
   "cell_type": "code",
   "execution_count": 4,
   "id": "46c34cf4-31fd-4de1-8b18-0694a2a25d29",
   "metadata": {},
   "outputs": [],
   "source": [
    "train, test = competition.get_train_test_split()"
   ]
  },
  {
   "cell_type": "code",
   "execution_count": 5,
   "id": "dfa8d6c9-7274-4a30-937a-08e7a87974ce",
   "metadata": {},
   "outputs": [
    {
     "data": {
      "text/plain": [
       "('COC1=CC=CC(Cl)=C1NC(=O)N1CCC[C@H](C(N)=O)C1 |a:16|',\n",
       " {'MLM': nan, 'MDR1-MDCKII': 2.0, 'HLM': nan, 'KSOL': nan, 'LogD': 0.3})"
      ]
     },
     "execution_count": 5,
     "metadata": {},
     "output_type": "execute_result"
    }
   ],
   "source": [
    "train[0]"
   ]
  },
  {
   "cell_type": "code",
   "execution_count": 6,
   "id": "ec22ca4b-395b-407f-93e6-2879a6d18004",
   "metadata": {},
   "outputs": [
    {
     "data": {
      "text/plain": [
       "'CC(C)[C@H]1C2=C(CCN1C(=O)CC1=CN=CC3=CC=CC=C13)SC=C2 |o1:3|'"
      ]
     },
     "execution_count": 6,
     "metadata": {},
     "output_type": "execute_result"
    }
   ],
   "source": [
    "test[0]"
   ]
  },
  {
   "cell_type": "markdown",
   "id": "fa187b6a-65ad-42aa-9d9a-0c853e419cb0",
   "metadata": {},
   "source": [
    "### Raw data dump\n",
    "We've decided to sacrifice the completeness of the scientific data to improve its ease of use. For those that are interested, you can also access the raw data dump that this dataset has been created from."
   ]
  },
  {
   "cell_type": "code",
   "execution_count": 7,
   "id": "e6777d4f-cded-482f-86b9-7eb988608969",
   "metadata": {},
   "outputs": [],
   "source": [
    "import fsspec\n",
    "import zipfile\n",
    "\n",
    "with fsspec.open(\"https://fs.polarishub.io/2025-01-asap-discovery/raw_data_package.zip\") as fd:\n",
    "    with zipfile.ZipFile(fd, 'r') as zip_ref:\n",
    "        zip_ref.extractall(\"./raw_data_package/\")"
   ]
  },
  {
   "cell_type": "code",
   "execution_count": 8,
   "id": "edb945d3-c7f5-4e7e-b1af-f3cceb1fcba3",
   "metadata": {},
   "outputs": [
    {
     "data": {
      "text/html": [
       "<div>\n",
       "<style scoped>\n",
       "    .dataframe tbody tr th:only-of-type {\n",
       "        vertical-align: middle;\n",
       "    }\n",
       "\n",
       "    .dataframe tbody tr th {\n",
       "        vertical-align: top;\n",
       "    }\n",
       "\n",
       "    .dataframe thead th {\n",
       "        text-align: right;\n",
       "    }\n",
       "</style>\n",
       "<table border=\"1\" class=\"dataframe\">\n",
       "  <thead>\n",
       "    <tr style=\"text-align: right;\">\n",
       "      <th></th>\n",
       "      <th>in-vitro_MDR1-MDCKII-Papp_bienta: mean_Papp_A_to_B (Mod)</th>\n",
       "      <th>in-vitro_MDR1-MDCKII-Papp_bienta: mean_Papp_A_to_B (Num) (10^-6 cm/s)</th>\n",
       "      <th>in-vitro_MDR1-MDCKII-Papp_bienta: SD_Papp_A_to_B (Mod)</th>\n",
       "      <th>in-vitro_MDR1-MDCKII-Papp_bienta: SD_Papp_A_to_B (Num)</th>\n",
       "      <th>in-vitro_MDR1-MDCKII-Papp_bienta: mean_percent_recovery_A_to_B (Mod)</th>\n",
       "      <th>in-vitro_MDR1-MDCKII-Papp_bienta: mean_percent_recovery_A_to_B (Num)</th>\n",
       "      <th>in-vitro_MDR1-MDCKII-Papp_bienta: SD_percent_recovery_A_to_B (Mod)</th>\n",
       "      <th>in-vitro_MDR1-MDCKII-Papp_bienta: SD_percent_recovery_A_to_B (Num)</th>\n",
       "      <th>in-vitro_MDR1-MDCKII-Papp_bienta: mean_Papp_B_to_A (Mod)</th>\n",
       "      <th>in-vitro_MDR1-MDCKII-Papp_bienta: mean_Papp_B_to_A (Num) (10^-6 cm/s)</th>\n",
       "      <th>in-vitro_MDR1-MDCKII-Papp_bienta: SD_Papp_B_to_A (Mod)</th>\n",
       "      <th>in-vitro_MDR1-MDCKII-Papp_bienta: SD_Papp_B_to_A (Num)</th>\n",
       "      <th>in-vitro_MDR1-MDCKII-Papp_bienta: mean_percent_recovery_B_to_A (Mod)</th>\n",
       "      <th>in-vitro_MDR1-MDCKII-Papp_bienta: mean_percent_recovery_B_to_A (Num)</th>\n",
       "      <th>in-vitro_MDR1-MDCKII-Papp_bienta: SD_percent_recovery_B_to_A (Mod)</th>\n",
       "      <th>in-vitro_MDR1-MDCKII-Papp_bienta: SD_percent_recovery_B_to_A (Num)</th>\n",
       "      <th>Molecule Name</th>\n",
       "      <th>CXSMILES (CDD Compatible)</th>\n",
       "      <th>Batch Created Date</th>\n",
       "    </tr>\n",
       "  </thead>\n",
       "  <tbody>\n",
       "    <tr>\n",
       "      <th>0</th>\n",
       "      <td>=</td>\n",
       "      <td>9.46</td>\n",
       "      <td>=</td>\n",
       "      <td>0.359309</td>\n",
       "      <td>=</td>\n",
       "      <td>82.0</td>\n",
       "      <td>=</td>\n",
       "      <td>0.453</td>\n",
       "      <td>NaN</td>\n",
       "      <td>NaN</td>\n",
       "      <td>NaN</td>\n",
       "      <td>NaN</td>\n",
       "      <td>NaN</td>\n",
       "      <td>NaN</td>\n",
       "      <td>NaN</td>\n",
       "      <td>NaN</td>\n",
       "      <td>ASAP-0023274</td>\n",
       "      <td>O=C(NC1=CC(Cl)=CC(C(=O)NC2=CC=CC(N3N=NNC3=O)=C...</td>\n",
       "      <td>2024-04-01</td>\n",
       "    </tr>\n",
       "    <tr>\n",
       "      <th>1</th>\n",
       "      <td>=</td>\n",
       "      <td>5.06</td>\n",
       "      <td>=</td>\n",
       "      <td>0.917089</td>\n",
       "      <td>=</td>\n",
       "      <td>85.5</td>\n",
       "      <td>=</td>\n",
       "      <td>2.780</td>\n",
       "      <td>NaN</td>\n",
       "      <td>NaN</td>\n",
       "      <td>NaN</td>\n",
       "      <td>NaN</td>\n",
       "      <td>NaN</td>\n",
       "      <td>NaN</td>\n",
       "      <td>NaN</td>\n",
       "      <td>NaN</td>\n",
       "      <td>ASAP-0023270</td>\n",
       "      <td>O=C(NC1=CC(Cl)=CC(C(=O)NC2=CC=CC(C3=NN=NN3)=C2...</td>\n",
       "      <td>2024-04-01</td>\n",
       "    </tr>\n",
       "    <tr>\n",
       "      <th>2</th>\n",
       "      <td>=</td>\n",
       "      <td>2.79</td>\n",
       "      <td>=</td>\n",
       "      <td>0.024695</td>\n",
       "      <td>=</td>\n",
       "      <td>76.0</td>\n",
       "      <td>=</td>\n",
       "      <td>1.780</td>\n",
       "      <td>NaN</td>\n",
       "      <td>NaN</td>\n",
       "      <td>NaN</td>\n",
       "      <td>NaN</td>\n",
       "      <td>NaN</td>\n",
       "      <td>NaN</td>\n",
       "      <td>NaN</td>\n",
       "      <td>NaN</td>\n",
       "      <td>ASAP-0023266</td>\n",
       "      <td>CC[C@H](CC1=NN=NN1)C1=CC=C(NC(=O)C2=CC(Cl)=CC(...</td>\n",
       "      <td>2024-04-01</td>\n",
       "    </tr>\n",
       "  </tbody>\n",
       "</table>\n",
       "</div>"
      ],
      "text/plain": [
       "  in-vitro_MDR1-MDCKII-Papp_bienta: mean_Papp_A_to_B (Mod)  \\\n",
       "0                                                  =         \n",
       "1                                                  =         \n",
       "2                                                  =         \n",
       "\n",
       "   in-vitro_MDR1-MDCKII-Papp_bienta: mean_Papp_A_to_B (Num) (10^-6 cm/s)  \\\n",
       "0                                               9.46                       \n",
       "1                                               5.06                       \n",
       "2                                               2.79                       \n",
       "\n",
       "  in-vitro_MDR1-MDCKII-Papp_bienta: SD_Papp_A_to_B (Mod)  \\\n",
       "0                                                  =       \n",
       "1                                                  =       \n",
       "2                                                  =       \n",
       "\n",
       "   in-vitro_MDR1-MDCKII-Papp_bienta: SD_Papp_A_to_B (Num)  \\\n",
       "0                                           0.359309        \n",
       "1                                           0.917089        \n",
       "2                                           0.024695        \n",
       "\n",
       "  in-vitro_MDR1-MDCKII-Papp_bienta: mean_percent_recovery_A_to_B (Mod)  \\\n",
       "0                                                  =                     \n",
       "1                                                  =                     \n",
       "2                                                  =                     \n",
       "\n",
       "   in-vitro_MDR1-MDCKII-Papp_bienta: mean_percent_recovery_A_to_B (Num)  \\\n",
       "0                                               82.0                      \n",
       "1                                               85.5                      \n",
       "2                                               76.0                      \n",
       "\n",
       "  in-vitro_MDR1-MDCKII-Papp_bienta: SD_percent_recovery_A_to_B (Mod)  \\\n",
       "0                                                  =                   \n",
       "1                                                  =                   \n",
       "2                                                  =                   \n",
       "\n",
       "   in-vitro_MDR1-MDCKII-Papp_bienta: SD_percent_recovery_A_to_B (Num)  \\\n",
       "0                                              0.453                    \n",
       "1                                              2.780                    \n",
       "2                                              1.780                    \n",
       "\n",
       "  in-vitro_MDR1-MDCKII-Papp_bienta: mean_Papp_B_to_A (Mod)  \\\n",
       "0                                                NaN         \n",
       "1                                                NaN         \n",
       "2                                                NaN         \n",
       "\n",
       "   in-vitro_MDR1-MDCKII-Papp_bienta: mean_Papp_B_to_A (Num) (10^-6 cm/s)  \\\n",
       "0                                                NaN                       \n",
       "1                                                NaN                       \n",
       "2                                                NaN                       \n",
       "\n",
       "  in-vitro_MDR1-MDCKII-Papp_bienta: SD_Papp_B_to_A (Mod)  \\\n",
       "0                                                NaN       \n",
       "1                                                NaN       \n",
       "2                                                NaN       \n",
       "\n",
       "  in-vitro_MDR1-MDCKII-Papp_bienta: SD_Papp_B_to_A (Num)  \\\n",
       "0                                                NaN       \n",
       "1                                                NaN       \n",
       "2                                                NaN       \n",
       "\n",
       "  in-vitro_MDR1-MDCKII-Papp_bienta: mean_percent_recovery_B_to_A (Mod)  \\\n",
       "0                                                NaN                     \n",
       "1                                                NaN                     \n",
       "2                                                NaN                     \n",
       "\n",
       "   in-vitro_MDR1-MDCKII-Papp_bienta: mean_percent_recovery_B_to_A (Num)  \\\n",
       "0                                                NaN                      \n",
       "1                                                NaN                      \n",
       "2                                                NaN                      \n",
       "\n",
       "  in-vitro_MDR1-MDCKII-Papp_bienta: SD_percent_recovery_B_to_A (Mod)  \\\n",
       "0                                                NaN                   \n",
       "1                                                NaN                   \n",
       "2                                                NaN                   \n",
       "\n",
       "   in-vitro_MDR1-MDCKII-Papp_bienta: SD_percent_recovery_B_to_A (Num)  \\\n",
       "0                                                NaN                    \n",
       "1                                                NaN                    \n",
       "2                                                NaN                    \n",
       "\n",
       "  Molecule Name                          CXSMILES (CDD Compatible)  \\\n",
       "0  ASAP-0023274  O=C(NC1=CC(Cl)=CC(C(=O)NC2=CC=CC(N3N=NNC3=O)=C...   \n",
       "1  ASAP-0023270  O=C(NC1=CC(Cl)=CC(C(=O)NC2=CC=CC(C3=NN=NN3)=C2...   \n",
       "2  ASAP-0023266  CC[C@H](CC1=NN=NN1)C1=CC=C(NC(=O)C2=CC(Cl)=CC(...   \n",
       "\n",
       "  Batch Created Date  \n",
       "0         2024-04-01  \n",
       "1         2024-04-01  \n",
       "2         2024-04-01  "
      ]
     },
     "execution_count": 8,
     "metadata": {},
     "output_type": "execute_result"
    }
   ],
   "source": [
    "import pandas as pd\n",
    "from pathlib import Path\n",
    "\n",
    "subdir = \"admet\" if CHALLENGE == \"antiviral-admet-2025\" else \"potency\"\n",
    "\n",
    "path = Path(\"./raw_data_package\")\n",
    "path = path / subdir\n",
    "\n",
    "csv_files = list(path.glob(\"*.csv\"))\n",
    "pd.read_csv(csv_files[0]).head(3)"
   ]
  },
  {
   "cell_type": "markdown",
   "id": "6701ce16-bcaa-41f4-b1c9-0318c1720434",
   "metadata": {},
   "source": [
    "## Build a model\n",
    "Next, we'll train a simple baseline model using scikit-learn. \n",
    "\n",
    "You'll notice that the challenge has multiple targets."
   ]
  },
  {
   "cell_type": "code",
   "execution_count": 9,
   "id": "72014923-cf25-4ec3-87f8-00e7db0b45de",
   "metadata": {},
   "outputs": [
    {
     "data": {
      "text/plain": [
       "['MLM', 'MDR1-MDCKII', 'HLM', 'KSOL', 'LogD']"
      ]
     },
     "execution_count": 9,
     "metadata": {},
     "output_type": "execute_result"
    }
   ],
   "source": [
    "train.target_cols"
   ]
  },
  {
   "cell_type": "markdown",
   "id": "ae44540f-ff75-475b-8e23-1a7d2134cdcf",
   "metadata": {},
   "source": [
    "An interesting idea would be to build a multi-task model to leverage shared information across tasks.\n",
    "\n",
    "For the sake of simplicity, however, we'll simply build a model per target here. "
   ]
  },
  {
   "cell_type": "code",
   "execution_count": 10,
   "id": "a2f9a6a8-388e-45ca-8b41-bfaed2a641e4",
   "metadata": {},
   "outputs": [],
   "source": [
    "import datamol as dm\n",
    "import numpy as np\n",
    "\n",
    "from sklearn.ensemble import GradientBoostingRegressor\n",
    "\n",
    "# Prepare the input data. We'll use Datamol to compute the ECFP fingerprints for both the train and test columns.\n",
    "X_train = np.array([dm.to_fp(dm.to_mol(smi)) for smi in train.X])\n",
    "X_test = np.array([dm.to_fp(dm.to_mol(smi)) for smi in test.X])\n",
    "\n",
    "y_pred = {}\n",
    "\n",
    "# For each of the targets...\n",
    "for tgt in competition.target_cols:\n",
    "\n",
    "    # We get the training targets\n",
    "    # Note that we need to mask out NaNs since the multi-task matrix is sparse.\n",
    "    y_true = train.y[tgt]\n",
    "    mask = ~np.isnan(y_true)\n",
    "\n",
    "    # We'll train a simple baseline model\n",
    "    model = GradientBoostingRegressor()\n",
    "    model.fit(X_train[mask], y_true[mask])\n",
    "\n",
    "    # And then use that to predict the targets for the test set\n",
    "    y_pred[tgt] = model.predict(X_test)"
   ]
  },
  {
   "cell_type": "markdown",
   "id": "820563e3-e372-4fdc-b038-259d24c5e0d8",
   "metadata": {},
   "source": [
    "## Submit your predictions\n",
    "Submitting your predictions to the competition is simple."
   ]
  },
  {
   "cell_type": "code",
   "execution_count": 11,
   "id": "4b1f4ead-0be2-44bd-84f9-608700589229",
   "metadata": {},
   "outputs": [
    {
     "name": "stdout",
     "output_type": "stream",
     "text": [
      "✅ SUCCESS: \u001b[1mYour competition predictions have been successfully uploaded to the Hub for evaluation.\u001b[0m\n",
      " \n"
     ]
    },
    {
     "name": "stderr",
     "output_type": "stream",
     "text": [
      "/Users/cas.wognum/micromamba/envs/polaris/lib/python3.12/site-packages/yaspin/core.py:171: UserWarning: color, on_color and attrs are not supported when running in jupyter\n",
      "  self._color = self._set_color(value) if value else value\n"
     ]
    }
   ],
   "source": [
    "competition.submit_predictions(\n",
    "    predictions=y_pred,\n",
    "    prediction_name=\"my-first-predictions\",\n",
    "    prediction_owner=\"cwognum\",\n",
    "    report_url=\"https://www.example.com\", \n",
    "    # The below metadata is optional, but recommended.\n",
    "    github_url=\"https://github.com/polaris-hub/polaris\",\n",
    "    description=\"Just testing the Polaris API here!\",\n",
    "    tags=[\"tutorial\"],\n",
    "    user_attributes={\"Framework\": \"Scikit-learn\", \"Method\": \"Gradient Boosting\"}\n",
    ")"
   ]
  },
  {
   "cell_type": "markdown",
   "id": "c515ba0e-1274-4ba1-b0ee-088b11d0983d",
   "metadata": {},
   "source": [
    "For the ASAP competition, we will only evaluate your latest submission. \n",
    "\n",
    "The results will only be disclosed after the competition ends."
   ]
  },
  {
   "cell_type": "markdown",
   "id": "24cb48a8-86f9-43e5-ad8b-74e039158387",
   "metadata": {},
   "source": [
    "The End."
   ]
  }
 ],
 "metadata": {
  "kernelspec": {
   "display_name": "Python 3 (ipykernel)",
   "language": "python",
   "name": "python3"
  },
  "language_info": {
   "codemirror_mode": {
    "name": "ipython",
    "version": 3
   },
   "file_extension": ".py",
   "mimetype": "text/x-python",
   "name": "python",
   "nbconvert_exporter": "python",
   "pygments_lexer": "ipython3",
   "version": "3.12.8"
  }
 },
 "nbformat": 4,
 "nbformat_minor": 5
}
